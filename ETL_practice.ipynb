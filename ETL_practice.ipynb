{
 "cells": [
  {
   "cell_type": "markdown",
   "metadata": {},
   "source": [
    "### Import Dependencies"
   ]
  },
  {
   "cell_type": "code",
   "execution_count": 65,
   "metadata": {},
   "outputs": [],
   "source": [
    "import json\n",
    "import pandas as pd\n",
    "import numpy as np\n",
    "\n",
    "#New! Import the Python module for regular expressions\n",
    "import re"
   ]
  },
  {
   "cell_type": "code",
   "execution_count": 66,
   "metadata": {},
   "outputs": [],
   "source": [
    "file_dir = '/Users/mariacarter/Desktop/Berkeley-Bootcamp/Analysis-Projects/Movies-ETL/Resources/'"
   ]
  },
  {
   "cell_type": "code",
   "execution_count": 67,
   "metadata": {},
   "outputs": [
    {
     "data": {
      "text/plain": [
       "'/Users/mariacarter/Desktop/Berkeley-Bootcamp/Analysis-Projects/Movies-ETL/Resources/filename'"
      ]
     },
     "execution_count": 67,
     "metadata": {},
     "output_type": "execute_result"
    }
   ],
   "source": [
    "f'{file_dir}filename'"
   ]
  },
  {
   "cell_type": "markdown",
   "metadata": {},
   "source": [
    "### Extract (E): \n",
    "Load the JSON into a List of Dictionaries & Extract the Kaggle Data"
   ]
  },
  {
   "cell_type": "code",
   "execution_count": 68,
   "metadata": {},
   "outputs": [],
   "source": [
    "#Load the JSON\n",
    "with open (f'{file_dir}/wikipedia.movies.json', mode='r') as file:\n",
    "    wiki_movies_raw = json.load(file)"
   ]
  },
  {
   "cell_type": "code",
   "execution_count": 69,
   "metadata": {},
   "outputs": [
    {
     "data": {
      "text/plain": [
       "7311"
      ]
     },
     "execution_count": 69,
     "metadata": {},
     "output_type": "execute_result"
    }
   ],
   "source": [
    "#Check how many records were pulled in\n",
    "len(wiki_movies_raw)"
   ]
  },
  {
   "cell_type": "markdown",
   "metadata": {},
   "source": [
    "#Check the first 5 records\n",
    "wiki_movies_raw[:5]"
   ]
  },
  {
   "cell_type": "markdown",
   "metadata": {},
   "source": [
    "#Check the last 5 records\n",
    "wiki_movies_raw[-5:]"
   ]
  },
  {
   "cell_type": "markdown",
   "metadata": {},
   "source": [
    "#Check 'some' records in the middle\n",
    "wiki_movies_raw[3600:3605]"
   ]
  },
  {
   "cell_type": "code",
   "execution_count": 70,
   "metadata": {},
   "outputs": [],
   "source": [
    "# Extract the Kaggle Data\n",
    "kaggle_metadata = pd.read_csv(f'{file_dir}movies_metadata.csv', low_memory=False)\n",
    "ratings = pd.read_csv(f'{file_dir}ratings.csv')"
   ]
  },
  {
   "cell_type": "markdown",
   "metadata": {},
   "source": [
    "### Transform (T): \n",
    "Data Cleaning! inspect, plan, execute."
   ]
  },
  {
   "cell_type": "markdown",
   "metadata": {},
   "source": [
    "#### Investigate the Wikipedia Data"
   ]
  },
  {
   "cell_type": "code",
   "execution_count": 10,
   "metadata": {},
   "outputs": [],
   "source": [
    "wiki_movies_df = pd.DataFrame(wiki_movies_raw)\n",
    "#wiki_movies_df.head()"
   ]
  },
  {
   "cell_type": "markdown",
   "metadata": {},
   "source": [
    "NOTE: Since we can't see all 193 columns in the DF, we need to change the columns to a list for a thorough look!"
   ]
  },
  {
   "cell_type": "code",
   "execution_count": 11,
   "metadata": {},
   "outputs": [
    {
     "data": {
      "text/plain": [
       "['url',\n",
       " 'year',\n",
       " 'imdb_link',\n",
       " 'title',\n",
       " 'Directed by',\n",
       " 'Produced by',\n",
       " 'Screenplay by',\n",
       " 'Story by',\n",
       " 'Based on',\n",
       " 'Starring',\n",
       " 'Narrated by',\n",
       " 'Music by',\n",
       " 'Cinematography',\n",
       " 'Edited by',\n",
       " 'Productioncompany ',\n",
       " 'Distributed by',\n",
       " 'Release date',\n",
       " 'Running time',\n",
       " 'Country',\n",
       " 'Language',\n",
       " 'Budget',\n",
       " 'Box office',\n",
       " 'Written by',\n",
       " 'Genre',\n",
       " 'Theme music composer',\n",
       " 'Country of origin',\n",
       " 'Original language(s)',\n",
       " 'Producer(s)',\n",
       " 'Editor(s)',\n",
       " 'Production company(s)',\n",
       " 'Original network',\n",
       " 'Original release',\n",
       " 'Productioncompanies ',\n",
       " 'Executive producer(s)',\n",
       " 'Production location(s)',\n",
       " 'Distributor',\n",
       " 'Picture format',\n",
       " 'Audio format',\n",
       " 'Voices of',\n",
       " 'Followed by',\n",
       " 'Composer(s)',\n",
       " 'Created by',\n",
       " 'Also known as',\n",
       " 'Opening theme',\n",
       " 'No. of episodes',\n",
       " 'Preceded by',\n",
       " 'Author',\n",
       " 'Publisher',\n",
       " 'Publication date',\n",
       " 'Media type',\n",
       " 'Pages',\n",
       " 'ISBN',\n",
       " 'OCLC',\n",
       " 'LC Class',\n",
       " 'Cover artist',\n",
       " 'Series',\n",
       " 'Set in',\n",
       " 'Adaptation by',\n",
       " 'Suggested by',\n",
       " 'Biographical data',\n",
       " 'Born',\n",
       " 'Died',\n",
       " 'Resting place',\n",
       " 'Occupation',\n",
       " 'Years active',\n",
       " 'Spouse(s)',\n",
       " 'Children',\n",
       " 'Parent(s)',\n",
       " 'Genres',\n",
       " 'Instruments',\n",
       " 'Labels',\n",
       " 'Website',\n",
       " 'Traditional',\n",
       " 'Mandarin',\n",
       " 'Type',\n",
       " 'Industry',\n",
       " 'Fate',\n",
       " 'Founded',\n",
       " 'Founder',\n",
       " 'Headquarters',\n",
       " 'Parent',\n",
       " 'Released',\n",
       " 'Recorded',\n",
       " 'Venue',\n",
       " 'Length',\n",
       " 'Label',\n",
       " 'Director',\n",
       " 'Producer',\n",
       " 'Area',\n",
       " 'Coordinates',\n",
       " 'Status',\n",
       " 'Opening date',\n",
       " 'Closing date',\n",
       " 'Replaced',\n",
       " 'Replaced by',\n",
       " 'Name',\n",
       " 'Attraction type',\n",
       " 'Music',\n",
       " 'Duration',\n",
       " 'Simplified Chinese',\n",
       " 'Traditional Chinese',\n",
       " 'Hanyu Pinyin',\n",
       " 'Literal meaning',\n",
       " 'Transcriptions',\n",
       " 'Bopomofo',\n",
       " 'Gwoyeu Romatzyh',\n",
       " 'Wade–Giles',\n",
       " 'IPA',\n",
       " 'Yale Romanization',\n",
       " 'Jyutping',\n",
       " 'Hokkien POJ',\n",
       " 'Animation by',\n",
       " 'Color process',\n",
       " 'Engine(s)',\n",
       " 'Genre(s)',\n",
       " 'Actor control',\n",
       " 'Production company',\n",
       " 'Release(s)',\n",
       " 'Format(s)',\n",
       " 'Simplified',\n",
       " 'Characters',\n",
       " 'Date premiered',\n",
       " 'Place premiered',\n",
       " 'Setting',\n",
       " 'Original language',\n",
       " 'Subject',\n",
       " 'Published',\n",
       " 'Dewey Decimal',\n",
       " 'Text',\n",
       " 'Illustrator',\n",
       " 'Original title',\n",
       " 'Published in English',\n",
       " 'French',\n",
       " 'Developed by',\n",
       " 'Ending theme',\n",
       " 'No. of seasons',\n",
       " 'Nationality',\n",
       " 'Portrayed by',\n",
       " 'Alias',\n",
       " 'Species',\n",
       " 'Gender',\n",
       " 'Family',\n",
       " 'Alma mater',\n",
       " 'Camera setup',\n",
       " 'Novel(s)',\n",
       " 'Comics',\n",
       " 'Film(s)',\n",
       " 'Screen story by',\n",
       " 'Hangul',\n",
       " 'Revised Romanization',\n",
       " 'McCune–Reischauer',\n",
       " 'Developer(s)',\n",
       " 'Publisher(s)',\n",
       " 'Designer(s)',\n",
       " 'Programmer(s)',\n",
       " 'Artist(s)',\n",
       " 'Writer(s)',\n",
       " 'Engine',\n",
       " 'Platform(s)',\n",
       " 'Release',\n",
       " 'Mode(s)',\n",
       " 'Original work',\n",
       " 'Television series',\n",
       " 'Japanese',\n",
       " 'Hepburn',\n",
       " 'Literally',\n",
       " 'Cantonese',\n",
       " 'Full name',\n",
       " 'Height',\n",
       " 'Seasons',\n",
       " 'Chinese',\n",
       " 'Other names',\n",
       " 'Relatives',\n",
       " 'Yiddish',\n",
       " 'Formerly',\n",
       " 'Key people',\n",
       " 'Total assets',\n",
       " 'Owner',\n",
       " 'Number of employees',\n",
       " 'Divisions',\n",
       " 'Subsidiaries',\n",
       " 'Arabic',\n",
       " 'Romanized',\n",
       " 'Predecessor',\n",
       " 'Founders',\n",
       " 'Area served',\n",
       " 'Products',\n",
       " 'Services',\n",
       " 'Russian',\n",
       " 'Hebrew',\n",
       " 'Revenue',\n",
       " 'Operating income',\n",
       " 'Polish']"
      ]
     },
     "execution_count": 11,
     "metadata": {},
     "output_type": "execute_result"
    }
   ],
   "source": [
    "wiki_movies_df.columns.tolist()"
   ]
  },
  {
   "cell_type": "markdown",
   "metadata": {},
   "source": [
    "#### Use List Comprehensions to Filter Data\n",
    "Use a list comprehension to get only movies with a director and IMDb link:\n",
    "[expression for element in source_list] or [expression for element in source_list if filter_expression]"
   ]
  },
  {
   "cell_type": "code",
   "execution_count": 71,
   "metadata": {},
   "outputs": [
    {
     "data": {
      "text/plain": [
       "7080"
      ]
     },
     "execution_count": 71,
     "metadata": {},
     "output_type": "execute_result"
    }
   ],
   "source": [
    "wiki_movies = [movie for movie in wiki_movies_raw \n",
    "               if ('Director' in movie or 'Directed by' in movie) \n",
    "                   and 'imdb_link' in movie]\n",
    "\n",
    "len(wiki_movies)"
   ]
  },
  {
   "cell_type": "code",
   "execution_count": 72,
   "metadata": {},
   "outputs": [
    {
     "data": {
      "text/plain": [
       "Index(['url', 'year', 'imdb_link', 'title', 'Directed by', 'Produced by',\n",
       "       'Screenplay by', 'Story by', 'Based on', 'Starring', 'Narrated by',\n",
       "       'Music by', 'Cinematography', 'Edited by', 'Productioncompany ',\n",
       "       'Distributed by', 'Release date', 'Running time', 'Country', 'Language',\n",
       "       'Budget', 'Box office', 'Written by', 'Genre', 'Theme music composer',\n",
       "       'Country of origin', 'Original language(s)', 'Producer(s)', 'Editor(s)',\n",
       "       'Production company(s)', 'Original network', 'Original release',\n",
       "       'Productioncompanies ', 'Executive producer(s)',\n",
       "       'Production location(s)', 'Distributor', 'Picture format',\n",
       "       'Audio format', 'Voices of', 'Followed by', 'Composer(s)', 'Created by',\n",
       "       'Also known as', 'Opening theme', 'No. of episodes', 'Preceded by',\n",
       "       'Adaptation by', 'Suggested by', 'Traditional', 'Mandarin', 'Released',\n",
       "       'Recorded', 'Venue', 'Length', 'Label', 'Director', 'Producer',\n",
       "       'Animation by', 'Color process', 'Simplified', 'French', 'Camera setup',\n",
       "       'Screen story by', 'Hangul', 'Revised Romanization',\n",
       "       'McCune–Reischauer', 'Original title', 'Japanese', 'Hepburn',\n",
       "       'Literally', 'Cantonese', 'Chinese', 'Yiddish', 'Arabic', 'Romanized',\n",
       "       'Russian', 'Hebrew', 'Polish'],\n",
       "      dtype='object')"
      ]
     },
     "execution_count": 72,
     "metadata": {},
     "output_type": "execute_result"
    }
   ],
   "source": [
    "wiki_movies_df = pd.DataFrame(wiki_movies)\n",
    "\n",
    "wiki_movies_df.columns"
   ]
  },
  {
   "cell_type": "code",
   "execution_count": 73,
   "metadata": {},
   "outputs": [
    {
     "data": {
      "text/plain": [
       "7076"
      ]
     },
     "execution_count": 73,
     "metadata": {},
     "output_type": "execute_result"
    }
   ],
   "source": [
    "wiki_movies = [movie for movie in wiki_movies_raw \n",
    "               if ('Director' in movie or 'Directed by' in movie) \n",
    "                   and 'imdb_link' in movie\n",
    "                      and 'No. of episodes' not in movie]\n",
    "\n",
    "len(wiki_movies)"
   ]
  },
  {
   "cell_type": "code",
   "execution_count": 75,
   "metadata": {},
   "outputs": [
    {
     "data": {
      "text/plain": [
       "Index(['url', 'year', 'imdb_link', 'title', 'Directed by', 'Produced by',\n",
       "       'Screenplay by', 'Story by', 'Based on', 'Starring', 'Narrated by',\n",
       "       'Music by', 'Cinematography', 'Edited by', 'Productioncompany ',\n",
       "       'Distributed by', 'Release date', 'Running time', 'Country', 'Language',\n",
       "       'Budget', 'Box office', 'Written by', 'Genre', 'Theme music composer',\n",
       "       'Country of origin', 'Original language(s)', 'Producer(s)', 'Editor(s)',\n",
       "       'Production company(s)', 'Original network', 'Original release',\n",
       "       'Productioncompanies ', 'Executive producer(s)',\n",
       "       'Production location(s)', 'Distributor', 'Picture format',\n",
       "       'Audio format', 'Voices of', 'Followed by', 'Composer(s)', 'Created by',\n",
       "       'Preceded by', 'Adaptation by', 'Suggested by', 'Traditional',\n",
       "       'Mandarin', 'Released', 'Recorded', 'Venue', 'Length', 'Label',\n",
       "       'Director', 'Producer', 'Also known as', 'Animation by',\n",
       "       'Color process', 'Simplified', 'French', 'Screen story by', 'Hangul',\n",
       "       'Revised Romanization', 'McCune–Reischauer', 'Original title',\n",
       "       'Japanese', 'Hepburn', 'Literally', 'Cantonese', 'Chinese', 'Yiddish',\n",
       "       'Arabic', 'Romanized', 'Russian', 'Hebrew', 'Polish'],\n",
       "      dtype='object')"
      ]
     },
     "execution_count": 75,
     "metadata": {},
     "output_type": "execute_result"
    }
   ],
   "source": [
    "wiki_movies_df = pd.DataFrame(wiki_movies)\n",
    "\n",
    "wiki_movies_df.columns"
   ]
  },
  {
   "cell_type": "markdown",
   "metadata": {},
   "source": [
    "First, write a simple function to make a copy of the movies and return it. 'movies' are dicts, so use te dict() constructor:\n",
    "\n",
    "def clean_movie(movie):\n",
    "    movie = dict(movie) # create a non-destructive copy\n",
    "    \n",
    "    return movie"
   ]
  },
  {
   "cell_type": "code",
   "execution_count": 15,
   "metadata": {},
   "outputs": [],
   "source": [
    "#wiki_movies_df[wiki_movies_df['Arabic'].notnull()]"
   ]
  },
  {
   "cell_type": "code",
   "execution_count": 16,
   "metadata": {},
   "outputs": [],
   "source": [
    "#wiki_movies_df[wiki_movies_df['Arabic'].notnull()]['url']"
   ]
  },
  {
   "cell_type": "code",
   "execution_count": 17,
   "metadata": {},
   "outputs": [
    {
     "data": {
      "text/plain": [
       "['Actor control',\n",
       " 'Adaptation by',\n",
       " 'Alias',\n",
       " 'Alma mater',\n",
       " 'Also known as',\n",
       " 'Animation by',\n",
       " 'Arabic',\n",
       " 'Area',\n",
       " 'Area served',\n",
       " 'Artist(s)',\n",
       " 'Attraction type',\n",
       " 'Audio format',\n",
       " 'Author',\n",
       " 'Based on',\n",
       " 'Biographical data',\n",
       " 'Bopomofo',\n",
       " 'Born',\n",
       " 'Box office',\n",
       " 'Budget',\n",
       " 'Camera setup',\n",
       " 'Cantonese',\n",
       " 'Characters',\n",
       " 'Children',\n",
       " 'Chinese',\n",
       " 'Cinematography',\n",
       " 'Closing date',\n",
       " 'Color process',\n",
       " 'Comics',\n",
       " 'Composer(s)',\n",
       " 'Coordinates',\n",
       " 'Country',\n",
       " 'Country of origin',\n",
       " 'Cover artist',\n",
       " 'Created by',\n",
       " 'Date premiered',\n",
       " 'Designer(s)',\n",
       " 'Developed by',\n",
       " 'Developer(s)',\n",
       " 'Dewey Decimal',\n",
       " 'Died',\n",
       " 'Directed by',\n",
       " 'Director',\n",
       " 'Distributed by',\n",
       " 'Distributor',\n",
       " 'Divisions',\n",
       " 'Duration',\n",
       " 'Edited by',\n",
       " 'Editor(s)',\n",
       " 'Ending theme',\n",
       " 'Engine',\n",
       " 'Engine(s)',\n",
       " 'Executive producer(s)',\n",
       " 'Family',\n",
       " 'Fate',\n",
       " 'Film(s)',\n",
       " 'Followed by',\n",
       " 'Format(s)',\n",
       " 'Formerly',\n",
       " 'Founded',\n",
       " 'Founder',\n",
       " 'Founders',\n",
       " 'French',\n",
       " 'Full name',\n",
       " 'Gender',\n",
       " 'Genre',\n",
       " 'Genre(s)',\n",
       " 'Genres',\n",
       " 'Gwoyeu Romatzyh',\n",
       " 'Hangul',\n",
       " 'Hanyu Pinyin',\n",
       " 'Headquarters',\n",
       " 'Hebrew',\n",
       " 'Height',\n",
       " 'Hepburn',\n",
       " 'Hokkien POJ',\n",
       " 'IPA',\n",
       " 'ISBN',\n",
       " 'Illustrator',\n",
       " 'Industry',\n",
       " 'Instruments',\n",
       " 'Japanese',\n",
       " 'Jyutping',\n",
       " 'Key people',\n",
       " 'LC Class',\n",
       " 'Label',\n",
       " 'Labels',\n",
       " 'Language',\n",
       " 'Length',\n",
       " 'Literal meaning',\n",
       " 'Literally',\n",
       " 'Mandarin',\n",
       " 'McCune–Reischauer',\n",
       " 'Media type',\n",
       " 'Mode(s)',\n",
       " 'Music',\n",
       " 'Music by',\n",
       " 'Name',\n",
       " 'Narrated by',\n",
       " 'Nationality',\n",
       " 'No. of episodes',\n",
       " 'No. of seasons',\n",
       " 'Novel(s)',\n",
       " 'Number of employees',\n",
       " 'OCLC',\n",
       " 'Occupation',\n",
       " 'Opening date',\n",
       " 'Opening theme',\n",
       " 'Operating income',\n",
       " 'Original language',\n",
       " 'Original language(s)',\n",
       " 'Original network',\n",
       " 'Original release',\n",
       " 'Original title',\n",
       " 'Original work',\n",
       " 'Other names',\n",
       " 'Owner',\n",
       " 'Pages',\n",
       " 'Parent',\n",
       " 'Parent(s)',\n",
       " 'Picture format',\n",
       " 'Place premiered',\n",
       " 'Platform(s)',\n",
       " 'Polish',\n",
       " 'Portrayed by',\n",
       " 'Preceded by',\n",
       " 'Predecessor',\n",
       " 'Produced by',\n",
       " 'Producer',\n",
       " 'Producer(s)',\n",
       " 'Production company',\n",
       " 'Production company(s)',\n",
       " 'Production location(s)',\n",
       " 'Productioncompanies ',\n",
       " 'Productioncompany ',\n",
       " 'Products',\n",
       " 'Programmer(s)',\n",
       " 'Publication date',\n",
       " 'Published',\n",
       " 'Published in English',\n",
       " 'Publisher',\n",
       " 'Publisher(s)',\n",
       " 'Recorded',\n",
       " 'Relatives',\n",
       " 'Release',\n",
       " 'Release date',\n",
       " 'Release(s)',\n",
       " 'Released',\n",
       " 'Replaced',\n",
       " 'Replaced by',\n",
       " 'Resting place',\n",
       " 'Revenue',\n",
       " 'Revised Romanization',\n",
       " 'Romanized',\n",
       " 'Running time',\n",
       " 'Russian',\n",
       " 'Screen story by',\n",
       " 'Screenplay by',\n",
       " 'Seasons',\n",
       " 'Series',\n",
       " 'Services',\n",
       " 'Set in',\n",
       " 'Setting',\n",
       " 'Simplified',\n",
       " 'Simplified Chinese',\n",
       " 'Species',\n",
       " 'Spouse(s)',\n",
       " 'Starring',\n",
       " 'Status',\n",
       " 'Story by',\n",
       " 'Subject',\n",
       " 'Subsidiaries',\n",
       " 'Suggested by',\n",
       " 'Television series',\n",
       " 'Text',\n",
       " 'Theme music composer',\n",
       " 'Total assets',\n",
       " 'Traditional',\n",
       " 'Traditional Chinese',\n",
       " 'Transcriptions',\n",
       " 'Type',\n",
       " 'Venue',\n",
       " 'Voices of',\n",
       " 'Wade–Giles',\n",
       " 'Website',\n",
       " 'Writer(s)',\n",
       " 'Written by',\n",
       " 'Yale Romanization',\n",
       " 'Years active',\n",
       " 'Yiddish',\n",
       " 'imdb_link',\n",
       " 'title',\n",
       " 'url',\n",
       " 'year']"
      ]
     },
     "execution_count": 17,
     "metadata": {},
     "output_type": "execute_result"
    }
   ],
   "source": [
    "sorted(wiki_movies_df.columns.tolist())"
   ]
  },
  {
   "cell_type": "markdown",
   "metadata": {},
   "source": [
    "### Handling the alternative titles...\n",
    "1. Make an empty dict to hold all the alternative titles\n",
    "2. Loop through a list of all alternative title keys:\n",
    "    * check if the current key exists in the movie object\n",
    "    * if so, remove the key-value pair and add it to the alternative titles dict.\n",
    "3. After looping through every key, add the alternative titles dict to the movie object."
   ]
  },
  {
   "cell_type": "markdown",
   "metadata": {},
   "source": [
    "#Step 1: Make an empty dict to hold all the alternative titles\n",
    "def clean_movie(movie):\n",
    "    movie = dict(movie) # create a non-destructive copy\n",
    "    alt_titles = {}\n",
    "    \n",
    "    return movie"
   ]
  },
  {
   "cell_type": "markdown",
   "metadata": {},
   "source": [
    "#Step 2: Loop through a list of all alternative title keys\n",
    "def clean_movie(movie):\n",
    "    movie = dict(movie) # create a non-destructive copy\n",
    "    alt_titles = {}\n",
    "    for key in ['Also known as', 'Arabic', 'Cantonese', 'Chinese', 'French',\n",
    "               'Hangul', 'Hebrew', 'Hepburn', 'Japanese', 'Literally',\n",
    "               'Mandarin', 'McCune-Reischauer', 'Original title', 'Polish',\n",
    "               'Revised Romanization', 'Romanized', 'Russian',\n",
    "               'Simplified', 'Traditional', 'Yiddish']:\n",
    "    \n",
    "    return movie"
   ]
  },
  {
   "cell_type": "markdown",
   "metadata": {},
   "source": [
    "#Step 2a: Check if the current key exists in the movie object\n",
    "def clean_movie(movie):\n",
    "    movie = dict(movie) # create a non-destructive copy\n",
    "    alt_titles = {}\n",
    "    for key in ['Also known as', 'Arabic', 'Cantonese', 'Chinese', 'French',\n",
    "               'Hangul', 'Hebrew', 'Hepburn', 'Japanese', 'Literally',\n",
    "               'Mandarin', 'McCune-Reischauer', 'Original title', 'Polish',\n",
    "               'Revised Romanization', 'Romanized', 'Russian',\n",
    "               'Simplified', 'Traditional', 'Yiddish']:\n",
    "        if key in movie:\n",
    "        \n",
    "    return movie"
   ]
  },
  {
   "cell_type": "markdown",
   "metadata": {},
   "source": [
    "#Step 2b: If so, remove the key-value pair and add to the alternative titles dictionary\n",
    "\n",
    "def clean_movie(movie):\n",
    "    movie = dict(movie) # create a non-destructive copy\n",
    "    alt_titles = {}\n",
    "    for key in ['Also known as', 'Arabic', 'Cantonese', 'Chinese', 'French',\n",
    "               'Hangul', 'Hebrew', 'Hepburn', 'Japanese', 'Literally',\n",
    "               'Mandarin', 'McCune-Reischauer', 'Original title', 'Polish',\n",
    "               'Revised Romanization', 'Romanized', 'Russian',\n",
    "               'Simplified', 'Traditional', 'Yiddish']:\n",
    "        if key in movie:\n",
    "            alt_titles[key] = movie[key]\n",
    "            movie.pop(key)\n",
    "        \n",
    "    return movie"
   ]
  },
  {
   "cell_type": "markdown",
   "metadata": {},
   "source": [
    "**NOTE**: Starting in the middle of the code, we are consolidating columns with the same data into one column using the pop() method. We use pop() to change the name of a dictionary key because pop() returns the value from a removed key-value pair."
   ]
  },
  {
   "cell_type": "code",
   "execution_count": 76,
   "metadata": {},
   "outputs": [],
   "source": [
    "# Step 3: After looping through every key, add the alternative titles dict to the movie object\n",
    "\n",
    "def clean_movie(movie):\n",
    "    movie = dict(movie) # create a non-destructive copy\n",
    "    alt_titles = {}\n",
    "    \n",
    "    # combine alternate titles into one list\n",
    "    for key in ['Also known as', 'Arabic', 'Cantonese', 'Chinese', 'French',\n",
    "               'Hangul', 'Hebrew', 'Hepburn', 'Japanese', 'Literally',\n",
    "               'Mandarin', 'McCune-Reischauer', 'McCune–Reischauer','Original title', 'Polish',\n",
    "               'Revised Romanization', 'Romanized', 'Russian',\n",
    "               'Simplified', 'Traditional', 'Yiddish']:\n",
    "        if key in movie:\n",
    "            alt_titles[key] = movie[key]\n",
    "            movie.pop(key)\n",
    "    if len(alt_titles) > 0:\n",
    "        movie['alt_titles'] = alt_titles\n",
    "    \n",
    "    # merge column names\n",
    "    def change_column_name(old_name, new_name):\n",
    "        if old_name in movie:\n",
    "            movie[new_name] = movie.pop(old_name)\n",
    "    change_column_name('Adaptation by', 'Writer(s)')\n",
    "    change_column_name('Country of origin', 'Country')\n",
    "    change_column_name('Directed by', 'Director')\n",
    "    change_column_name('Distributed by', 'Distributor')\n",
    "    change_column_name('Edited by', 'Editor(s)')\n",
    "    change_column_name('Length', 'Running time')\n",
    "    change_column_name('Original release', 'Release date')\n",
    "    change_column_name('Music by', 'Composer(s)')\n",
    "    change_column_name('Produced by', 'Producer(s)')\n",
    "    change_column_name('Producer', 'Producer(s)')\n",
    "    change_column_name('Productioncompanies', 'Production company(s)')\n",
    "    change_column_name('Productioncompanies ', 'Production company(s)')\n",
    "    change_column_name('Productioncompany', 'Production company(s)')\n",
    "    change_column_name('Productioncompany ', 'Production company(s)')\n",
    "    change_column_name('Released', 'Release date')\n",
    "    change_column_name('Released Date', 'Release date')\n",
    "    change_column_name('Screen story by', 'Writer(s)')\n",
    "    change_column_name('Screenplay by', 'Writer(s)')\n",
    "    change_column_name('Story by', 'Writer(s)')\n",
    "    change_column_name('Theme music composer', 'Composer(s)')\n",
    "    change_column_name('Written by', 'Writer(s)')\n",
    "    \n",
    "    return movie"
   ]
  },
  {
   "cell_type": "code",
   "execution_count": 77,
   "metadata": {},
   "outputs": [],
   "source": [
    "# Now we can make a list of cleaned movies using a list comprehension:\n",
    "clean_movies = [clean_movie(movie) for movie in wiki_movies]"
   ]
  },
  {
   "cell_type": "code",
   "execution_count": 78,
   "metadata": {},
   "outputs": [],
   "source": [
    "# Set to a DataFrame\n",
    "wiki_movies_df = pd.DataFrame(clean_movies)"
   ]
  },
  {
   "cell_type": "code",
   "execution_count": 79,
   "metadata": {},
   "outputs": [
    {
     "data": {
      "text/plain": [
       "['Animation by',\n",
       " 'Audio format',\n",
       " 'Based on',\n",
       " 'Box office',\n",
       " 'Budget',\n",
       " 'Cinematography',\n",
       " 'Color process',\n",
       " 'Composer(s)',\n",
       " 'Country',\n",
       " 'Created by',\n",
       " 'Director',\n",
       " 'Distributor',\n",
       " 'Editor(s)',\n",
       " 'Executive producer(s)',\n",
       " 'Followed by',\n",
       " 'Genre',\n",
       " 'Label',\n",
       " 'Language',\n",
       " 'Narrated by',\n",
       " 'Original language(s)',\n",
       " 'Original network',\n",
       " 'Picture format',\n",
       " 'Preceded by',\n",
       " 'Producer(s)',\n",
       " 'Production company(s)',\n",
       " 'Production location(s)',\n",
       " 'Recorded',\n",
       " 'Release date',\n",
       " 'Running time',\n",
       " 'Starring',\n",
       " 'Suggested by',\n",
       " 'Venue',\n",
       " 'Voices of',\n",
       " 'Writer(s)',\n",
       " 'alt_titles',\n",
       " 'imdb_link',\n",
       " 'title',\n",
       " 'url',\n",
       " 'year']"
      ]
     },
     "execution_count": 79,
     "metadata": {},
     "output_type": "execute_result"
    }
   ],
   "source": [
    "# Print out list of columns\n",
    "sorted(wiki_movies_df.columns.tolist())"
   ]
  },
  {
   "cell_type": "markdown",
   "metadata": {},
   "source": [
    "### Remove Duplicate Rows"
   ]
  },
  {
   "cell_type": "code",
   "execution_count": 80,
   "metadata": {},
   "outputs": [
    {
     "name": "stdout",
     "output_type": "stream",
     "text": [
      "7076\n"
     ]
    }
   ],
   "source": [
    "# Code to extra the IMDb ID\n",
    "wiki_movies_df['imdb_id'] = wiki_movies_df['imdb_link'].str.extract(r'(tt\\d{7})')\n",
    "print(len(wiki_movies_df))\n"
   ]
  },
  {
   "cell_type": "code",
   "execution_count": 81,
   "metadata": {},
   "outputs": [
    {
     "name": "stdout",
     "output_type": "stream",
     "text": [
      "7033\n"
     ]
    }
   ],
   "source": [
    "wiki_movies_df.drop_duplicates(subset= 'imdb_id', inplace=True)\n",
    "print(len(wiki_movies_df))"
   ]
  },
  {
   "cell_type": "code",
   "execution_count": 24,
   "metadata": {},
   "outputs": [],
   "source": [
    "#wiki_movies_df.head()"
   ]
  },
  {
   "cell_type": "markdown",
   "metadata": {},
   "source": [
    "### Remove Mostly Null Columns\n",
    "\n",
    "use df.isnull().sum() but in a list comprehension...."
   ]
  },
  {
   "cell_type": "code",
   "execution_count": 82,
   "metadata": {},
   "outputs": [
    {
     "data": {
      "text/plain": [
       "[['url', 0],\n",
       " ['year', 0],\n",
       " ['imdb_link', 0],\n",
       " ['title', 1],\n",
       " ['Based on', 4852],\n",
       " ['Starring', 184],\n",
       " ['Narrated by', 6752],\n",
       " ['Cinematography', 691],\n",
       " ['Release date', 32],\n",
       " ['Running time', 139],\n",
       " ['Country', 236],\n",
       " ['Language', 244],\n",
       " ['Budget', 2295],\n",
       " ['Box office', 1548],\n",
       " ['Director', 0],\n",
       " ['Distributor', 357],\n",
       " ['Editor(s)', 548],\n",
       " ['Composer(s)', 518],\n",
       " ['Producer(s)', 202],\n",
       " ['Production company(s)', 1678],\n",
       " ['Writer(s)', 199],\n",
       " ['Genre', 6923],\n",
       " ['Original language(s)', 6875],\n",
       " ['Original network', 6908],\n",
       " ['Executive producer(s)', 6936],\n",
       " ['Production location(s)', 6986],\n",
       " ['Picture format', 6969],\n",
       " ['Audio format', 6972],\n",
       " ['Voices of', 7031],\n",
       " ['Followed by', 7024],\n",
       " ['Created by', 7023],\n",
       " ['Preceded by', 7023],\n",
       " ['Suggested by', 7032],\n",
       " ['alt_titles', 7012],\n",
       " ['Recorded', 7031],\n",
       " ['Venue', 7032],\n",
       " ['Label', 7031],\n",
       " ['Animation by', 7031],\n",
       " ['Color process', 7032],\n",
       " ['imdb_id', 0]]"
      ]
     },
     "execution_count": 82,
     "metadata": {},
     "output_type": "execute_result"
    }
   ],
   "source": [
    "[[column, wiki_movies_df[column].isnull().sum()] for column in wiki_movies_df.columns]"
   ]
  },
  {
   "cell_type": "markdown",
   "metadata": {},
   "source": [
    "Since we're seeing about half the columns that have more than 6,000 null values, we'll tweak our list comprehsnion so that we can remove them programmatically."
   ]
  },
  {
   "cell_type": "code",
   "execution_count": 83,
   "metadata": {},
   "outputs": [],
   "source": [
    "wiki_columns_to_keep = [column for column in wiki_movies_df.columns \n",
    "                        if wiki_movies_df[column].isnull().sum() < len(wiki_movies_df) * 0.9]\n",
    "\n",
    "wiki_movies_df = wiki_movies_df[wiki_columns_to_keep]"
   ]
  },
  {
   "cell_type": "code",
   "execution_count": 84,
   "metadata": {},
   "outputs": [
    {
     "data": {
      "text/plain": [
       "['url',\n",
       " 'year',\n",
       " 'imdb_link',\n",
       " 'title',\n",
       " 'Based on',\n",
       " 'Starring',\n",
       " 'Cinematography',\n",
       " 'Release date',\n",
       " 'Running time',\n",
       " 'Country',\n",
       " 'Language',\n",
       " 'Budget',\n",
       " 'Box office',\n",
       " 'Director',\n",
       " 'Distributor',\n",
       " 'Editor(s)',\n",
       " 'Composer(s)',\n",
       " 'Producer(s)',\n",
       " 'Production company(s)',\n",
       " 'Writer(s)',\n",
       " 'imdb_id']"
      ]
     },
     "execution_count": 84,
     "metadata": {},
     "output_type": "execute_result"
    }
   ],
   "source": [
    "wiki_movies_df.columns.tolist()"
   ]
  },
  {
   "cell_type": "code",
   "execution_count": 85,
   "metadata": {},
   "outputs": [
    {
     "data": {
      "text/html": [
       "<div>\n",
       "<style scoped>\n",
       "    .dataframe tbody tr th:only-of-type {\n",
       "        vertical-align: middle;\n",
       "    }\n",
       "\n",
       "    .dataframe tbody tr th {\n",
       "        vertical-align: top;\n",
       "    }\n",
       "\n",
       "    .dataframe thead th {\n",
       "        text-align: right;\n",
       "    }\n",
       "</style>\n",
       "<table border=\"1\" class=\"dataframe\">\n",
       "  <thead>\n",
       "    <tr style=\"text-align: right;\">\n",
       "      <th></th>\n",
       "      <th>url</th>\n",
       "      <th>year</th>\n",
       "      <th>imdb_link</th>\n",
       "      <th>title</th>\n",
       "      <th>Based on</th>\n",
       "      <th>Starring</th>\n",
       "      <th>Cinematography</th>\n",
       "      <th>Release date</th>\n",
       "      <th>Running time</th>\n",
       "      <th>Country</th>\n",
       "      <th>...</th>\n",
       "      <th>Budget</th>\n",
       "      <th>Box office</th>\n",
       "      <th>Director</th>\n",
       "      <th>Distributor</th>\n",
       "      <th>Editor(s)</th>\n",
       "      <th>Composer(s)</th>\n",
       "      <th>Producer(s)</th>\n",
       "      <th>Production company(s)</th>\n",
       "      <th>Writer(s)</th>\n",
       "      <th>imdb_id</th>\n",
       "    </tr>\n",
       "  </thead>\n",
       "  <tbody>\n",
       "    <tr>\n",
       "      <th>0</th>\n",
       "      <td>https://en.wikipedia.org/wiki/The_Adventures_o...</td>\n",
       "      <td>1990</td>\n",
       "      <td>https://www.imdb.com/title/tt0098987/</td>\n",
       "      <td>The Adventures of Ford Fairlane</td>\n",
       "      <td>[Characters, by Rex Weiner]</td>\n",
       "      <td>[Andrew Dice Clay, Wayne Newton, Priscilla Pre...</td>\n",
       "      <td>Oliver Wood</td>\n",
       "      <td>[July 11, 1990, (, 1990-07-11, )]</td>\n",
       "      <td>102 minutes</td>\n",
       "      <td>United States</td>\n",
       "      <td>...</td>\n",
       "      <td>$20 million</td>\n",
       "      <td>$21.4 million</td>\n",
       "      <td>Renny Harlin</td>\n",
       "      <td>20th Century Fox</td>\n",
       "      <td>Michael Tronick</td>\n",
       "      <td>[Cliff Eidelman, Yello]</td>\n",
       "      <td>[Steve Perry, Joel Silver]</td>\n",
       "      <td>Silver Pictures</td>\n",
       "      <td>[David Arnott, James Cappe]</td>\n",
       "      <td>tt0098987</td>\n",
       "    </tr>\n",
       "    <tr>\n",
       "      <th>1</th>\n",
       "      <td>https://en.wikipedia.org/wiki/After_Dark,_My_S...</td>\n",
       "      <td>1990</td>\n",
       "      <td>https://www.imdb.com/title/tt0098994/</td>\n",
       "      <td>After Dark, My Sweet</td>\n",
       "      <td>[the novel, After Dark, My Sweet, by, Jim Thom...</td>\n",
       "      <td>[Jason Patric, Rachel Ward, Bruce Dern, George...</td>\n",
       "      <td>Mark Plummer</td>\n",
       "      <td>[May 17, 1990, (, 1990-05-17, ), (Cannes Film ...</td>\n",
       "      <td>114 minutes</td>\n",
       "      <td>United States</td>\n",
       "      <td>...</td>\n",
       "      <td>$6 million</td>\n",
       "      <td>$2.7 million</td>\n",
       "      <td>James Foley</td>\n",
       "      <td>Avenue Pictures</td>\n",
       "      <td>Howard E. Smith</td>\n",
       "      <td>Maurice Jarre</td>\n",
       "      <td>[Ric Kidney, Robert Redlin]</td>\n",
       "      <td>Avenue Pictures</td>\n",
       "      <td>[James Foley, Robert Redlin]</td>\n",
       "      <td>tt0098994</td>\n",
       "    </tr>\n",
       "    <tr>\n",
       "      <th>2</th>\n",
       "      <td>https://en.wikipedia.org/wiki/Air_America_(film)</td>\n",
       "      <td>1990</td>\n",
       "      <td>https://www.imdb.com/title/tt0099005/</td>\n",
       "      <td>Air America</td>\n",
       "      <td>[Air America, by, Christopher Robbins]</td>\n",
       "      <td>[Mel Gibson, Robert Downey Jr., Nancy Travis, ...</td>\n",
       "      <td>Roger Deakins</td>\n",
       "      <td>[August 10, 1990, (, 1990-08-10, )]</td>\n",
       "      <td>113 minutes</td>\n",
       "      <td>United States</td>\n",
       "      <td>...</td>\n",
       "      <td>$35 million</td>\n",
       "      <td>$57,718,089</td>\n",
       "      <td>Roger Spottiswoode</td>\n",
       "      <td>TriStar Pictures</td>\n",
       "      <td>[John Bloom, Lois Freeman-Fox]</td>\n",
       "      <td>Charles Gross</td>\n",
       "      <td>Daniel Melnick</td>\n",
       "      <td>[Carolco Pictures, IndieProd Company]</td>\n",
       "      <td>[John Eskow, Richard Rush]</td>\n",
       "      <td>tt0099005</td>\n",
       "    </tr>\n",
       "    <tr>\n",
       "      <th>3</th>\n",
       "      <td>https://en.wikipedia.org/wiki/Alice_(1990_film)</td>\n",
       "      <td>1990</td>\n",
       "      <td>https://www.imdb.com/title/tt0099012/</td>\n",
       "      <td>Alice</td>\n",
       "      <td>NaN</td>\n",
       "      <td>[Alec Baldwin, Blythe Danner, Judy Davis, Mia ...</td>\n",
       "      <td>Carlo Di Palma</td>\n",
       "      <td>[December 25, 1990, (, 1990-12-25, )]</td>\n",
       "      <td>106 minutes</td>\n",
       "      <td>United States</td>\n",
       "      <td>...</td>\n",
       "      <td>$12 million</td>\n",
       "      <td>$7,331,647</td>\n",
       "      <td>Woody Allen</td>\n",
       "      <td>Orion Pictures</td>\n",
       "      <td>Susan E. Morse</td>\n",
       "      <td>NaN</td>\n",
       "      <td>Robert Greenhut</td>\n",
       "      <td>NaN</td>\n",
       "      <td>Woody Allen</td>\n",
       "      <td>tt0099012</td>\n",
       "    </tr>\n",
       "    <tr>\n",
       "      <th>4</th>\n",
       "      <td>https://en.wikipedia.org/wiki/Almost_an_Angel</td>\n",
       "      <td>1990</td>\n",
       "      <td>https://www.imdb.com/title/tt0099018/</td>\n",
       "      <td>Almost an Angel</td>\n",
       "      <td>NaN</td>\n",
       "      <td>[Paul Hogan, Elias Koteas, Linda Kozlowski]</td>\n",
       "      <td>Russell Boyd</td>\n",
       "      <td>December 19, 1990</td>\n",
       "      <td>95 minutes</td>\n",
       "      <td>US</td>\n",
       "      <td>...</td>\n",
       "      <td>$25 million</td>\n",
       "      <td>$6,939,946 (USA)</td>\n",
       "      <td>John Cornell</td>\n",
       "      <td>Paramount Pictures</td>\n",
       "      <td>David Stiven</td>\n",
       "      <td>Maurice Jarre</td>\n",
       "      <td>John Cornell</td>\n",
       "      <td>NaN</td>\n",
       "      <td>Paul Hogan</td>\n",
       "      <td>tt0099018</td>\n",
       "    </tr>\n",
       "  </tbody>\n",
       "</table>\n",
       "<p>5 rows × 21 columns</p>\n",
       "</div>"
      ],
      "text/plain": [
       "                                                 url  year  \\\n",
       "0  https://en.wikipedia.org/wiki/The_Adventures_o...  1990   \n",
       "1  https://en.wikipedia.org/wiki/After_Dark,_My_S...  1990   \n",
       "2   https://en.wikipedia.org/wiki/Air_America_(film)  1990   \n",
       "3    https://en.wikipedia.org/wiki/Alice_(1990_film)  1990   \n",
       "4      https://en.wikipedia.org/wiki/Almost_an_Angel  1990   \n",
       "\n",
       "                               imdb_link                            title  \\\n",
       "0  https://www.imdb.com/title/tt0098987/  The Adventures of Ford Fairlane   \n",
       "1  https://www.imdb.com/title/tt0098994/             After Dark, My Sweet   \n",
       "2  https://www.imdb.com/title/tt0099005/                      Air America   \n",
       "3  https://www.imdb.com/title/tt0099012/                            Alice   \n",
       "4  https://www.imdb.com/title/tt0099018/                  Almost an Angel   \n",
       "\n",
       "                                            Based on  \\\n",
       "0                        [Characters, by Rex Weiner]   \n",
       "1  [the novel, After Dark, My Sweet, by, Jim Thom...   \n",
       "2             [Air America, by, Christopher Robbins]   \n",
       "3                                                NaN   \n",
       "4                                                NaN   \n",
       "\n",
       "                                            Starring  Cinematography  \\\n",
       "0  [Andrew Dice Clay, Wayne Newton, Priscilla Pre...     Oliver Wood   \n",
       "1  [Jason Patric, Rachel Ward, Bruce Dern, George...    Mark Plummer   \n",
       "2  [Mel Gibson, Robert Downey Jr., Nancy Travis, ...   Roger Deakins   \n",
       "3  [Alec Baldwin, Blythe Danner, Judy Davis, Mia ...  Carlo Di Palma   \n",
       "4        [Paul Hogan, Elias Koteas, Linda Kozlowski]    Russell Boyd   \n",
       "\n",
       "                                        Release date Running time  \\\n",
       "0                  [July 11, 1990, (, 1990-07-11, )]  102 minutes   \n",
       "1  [May 17, 1990, (, 1990-05-17, ), (Cannes Film ...  114 minutes   \n",
       "2                [August 10, 1990, (, 1990-08-10, )]  113 minutes   \n",
       "3              [December 25, 1990, (, 1990-12-25, )]  106 minutes   \n",
       "4                                  December 19, 1990   95 minutes   \n",
       "\n",
       "         Country  ...       Budget        Box office            Director  \\\n",
       "0  United States  ...  $20 million     $21.4 million        Renny Harlin   \n",
       "1  United States  ...   $6 million      $2.7 million         James Foley   \n",
       "2  United States  ...  $35 million       $57,718,089  Roger Spottiswoode   \n",
       "3  United States  ...  $12 million        $7,331,647         Woody Allen   \n",
       "4             US  ...  $25 million  $6,939,946 (USA)        John Cornell   \n",
       "\n",
       "          Distributor                       Editor(s)  \\\n",
       "0    20th Century Fox                 Michael Tronick   \n",
       "1     Avenue Pictures                 Howard E. Smith   \n",
       "2    TriStar Pictures  [John Bloom, Lois Freeman-Fox]   \n",
       "3      Orion Pictures                  Susan E. Morse   \n",
       "4  Paramount Pictures                    David Stiven   \n",
       "\n",
       "               Composer(s)                  Producer(s)  \\\n",
       "0  [Cliff Eidelman, Yello]   [Steve Perry, Joel Silver]   \n",
       "1            Maurice Jarre  [Ric Kidney, Robert Redlin]   \n",
       "2            Charles Gross               Daniel Melnick   \n",
       "3                      NaN              Robert Greenhut   \n",
       "4            Maurice Jarre                 John Cornell   \n",
       "\n",
       "                   Production company(s)                     Writer(s)  \\\n",
       "0                        Silver Pictures   [David Arnott, James Cappe]   \n",
       "1                        Avenue Pictures  [James Foley, Robert Redlin]   \n",
       "2  [Carolco Pictures, IndieProd Company]    [John Eskow, Richard Rush]   \n",
       "3                                    NaN                   Woody Allen   \n",
       "4                                    NaN                    Paul Hogan   \n",
       "\n",
       "     imdb_id  \n",
       "0  tt0098987  \n",
       "1  tt0098994  \n",
       "2  tt0099005  \n",
       "3  tt0099012  \n",
       "4  tt0099018  \n",
       "\n",
       "[5 rows x 21 columns]"
      ]
     },
     "execution_count": 85,
     "metadata": {},
     "output_type": "execute_result"
    }
   ],
   "source": [
    "wiki_movies_df.head()"
   ]
  },
  {
   "cell_type": "code",
   "execution_count": 86,
   "metadata": {},
   "outputs": [
    {
     "data": {
      "text/plain": [
       "url                      object\n",
       "year                      int64\n",
       "imdb_link                object\n",
       "title                    object\n",
       "Based on                 object\n",
       "Starring                 object\n",
       "Cinematography           object\n",
       "Release date             object\n",
       "Running time             object\n",
       "Country                  object\n",
       "Language                 object\n",
       "Budget                   object\n",
       "Box office               object\n",
       "Director                 object\n",
       "Distributor              object\n",
       "Editor(s)                object\n",
       "Composer(s)              object\n",
       "Producer(s)              object\n",
       "Production company(s)    object\n",
       "Writer(s)                object\n",
       "imdb_id                  object\n",
       "dtype: object"
      ]
     },
     "execution_count": 86,
     "metadata": {},
     "output_type": "execute_result"
    }
   ],
   "source": [
    "wiki_movies_df.dtypes"
   ]
  },
  {
   "cell_type": "markdown",
   "metadata": {},
   "source": [
    "### Convert and Parse the Data\n",
    "Change the data types:\n",
    "* Box Office should be numeric\n",
    "* Budget should be numeric\n",
    "* Release date should be a date object\n",
    "* Running time should be numeric\n",
    "\n",
    "**NOTE**: Always check the number of data points before/after you drop any data."
   ]
  },
  {
   "cell_type": "code",
   "execution_count": 87,
   "metadata": {},
   "outputs": [
    {
     "data": {
      "text/plain": [
       "url                      7033\n",
       "year                     7033\n",
       "imdb_link                7033\n",
       "title                    7032\n",
       "Based on                 2181\n",
       "Starring                 6849\n",
       "Cinematography           6342\n",
       "Release date             7001\n",
       "Running time             6894\n",
       "Country                  6797\n",
       "Language                 6789\n",
       "Budget                   4738\n",
       "Box office               5485\n",
       "Director                 7033\n",
       "Distributor              6676\n",
       "Editor(s)                6485\n",
       "Composer(s)              6515\n",
       "Producer(s)              6831\n",
       "Production company(s)    5355\n",
       "Writer(s)                6834\n",
       "imdb_id                  7033\n",
       "dtype: int64"
      ]
     },
     "execution_count": 87,
     "metadata": {},
     "output_type": "execute_result"
    }
   ],
   "source": [
    "wiki_movies_df.notnull().sum()"
   ]
  },
  {
   "cell_type": "code",
   "execution_count": 88,
   "metadata": {},
   "outputs": [],
   "source": [
    "#box_office = wiki_movies_df['Box office'].dropna()"
   ]
  },
  {
   "cell_type": "code",
   "execution_count": 89,
   "metadata": {},
   "outputs": [
    {
     "data": {
      "text/plain": [
       "url                      7033\n",
       "year                     7033\n",
       "imdb_link                7033\n",
       "title                    7032\n",
       "Based on                 2181\n",
       "Starring                 6849\n",
       "Cinematography           6342\n",
       "Release date             7001\n",
       "Running time             6894\n",
       "Country                  6797\n",
       "Language                 6789\n",
       "Budget                   4738\n",
       "Box office               5485\n",
       "Director                 7033\n",
       "Distributor              6676\n",
       "Editor(s)                6485\n",
       "Composer(s)              6515\n",
       "Producer(s)              6831\n",
       "Production company(s)    5355\n",
       "Writer(s)                6834\n",
       "imdb_id                  7033\n",
       "dtype: int64"
      ]
     },
     "execution_count": 89,
     "metadata": {},
     "output_type": "execute_result"
    }
   ],
   "source": [
    "wiki_movies_df.notnull().sum()"
   ]
  },
  {
   "cell_type": "code",
   "execution_count": 90,
   "metadata": {},
   "outputs": [
    {
     "data": {
      "text/plain": [
       "Series([], Name: Box office, dtype: object)"
      ]
     },
     "execution_count": 90,
     "metadata": {},
     "output_type": "execute_result"
    }
   ],
   "source": [
    "def is_not_a_string(x):\n",
    "    return type(x) != str\n",
    "\n",
    "box_office[box_office.map(is_not_a_string)]"
   ]
  },
  {
   "cell_type": "markdown",
   "metadata": {},
   "source": [
    "This is what lambda functions are made for! Instead of creating a new function with a code of block and the def keyword, we can create an anonymous lambda function right inside the map() call:"
   ]
  },
  {
   "cell_type": "code",
   "execution_count": 91,
   "metadata": {},
   "outputs": [
    {
     "data": {
      "text/plain": [
       "Series([], Name: Box office, dtype: object)"
      ]
     },
     "execution_count": 91,
     "metadata": {},
     "output_type": "execute_result"
    }
   ],
   "source": [
    "box_office[box_office.map(lambda x: type(x) != str)]"
   ]
  },
  {
   "cell_type": "code",
   "execution_count": 92,
   "metadata": {},
   "outputs": [
    {
     "data": {
      "text/plain": [
       "0          $21.4 million\n",
       "1           $2.7 million\n",
       "2            $57,718,089\n",
       "3             $7,331,647\n",
       "4       $6,939,946 (USA)\n",
       "              ...       \n",
       "7070       $19.4 million\n",
       "7071       $41.9 million\n",
       "7072       $76.1 million\n",
       "7073       $38.4 million\n",
       "7074        $5.5 million\n",
       "Name: Box office, Length: 5485, dtype: object"
      ]
     },
     "execution_count": 92,
     "metadata": {},
     "output_type": "execute_result"
    }
   ],
   "source": [
    "box_office = box_office.apply(lambda x: ''.join(x) if type(x) == list else x)\n",
    "\n",
    "box_office"
   ]
  },
  {
   "cell_type": "markdown",
   "metadata": {},
   "source": [
    "#### Use regular expressions to parse the Box Office data\n",
    "Two main forms in the box office data: \n",
    "* $123.4 million (or billion)\n",
    "\n",
    "* $123,456,789"
   ]
  },
  {
   "cell_type": "markdown",
   "metadata": {},
   "source": [
    "#create the first form\n",
    "form_one = r'\\$\\d+\\.?\\d*\\s*[mb]illion'\n",
    "box_office.str.contains(form_one, flags=re.IGNORECASE).sum()"
   ]
  },
  {
   "cell_type": "markdown",
   "metadata": {},
   "source": [
    "#create the second form\n",
    "form_two = r'\\$\\d{1,3}(?:,\\d{3})+'\n",
    "box_office.str.contains(form_two, flags=re.IGNORECASE).sum()"
   ]
  },
  {
   "cell_type": "markdown",
   "metadata": {},
   "source": [
    "#compare values in forms:\n",
    "matches_form_one = box_office.str.contains(form_one, flags=re.IGNORECASE).sum()\n",
    "matches_form_two = box_office.str.contains(form_two, flags=re.IGNORECASE).sum()"
   ]
  },
  {
   "cell_type": "code",
   "execution_count": 102,
   "metadata": {},
   "outputs": [],
   "source": [
    "#matches_form_one"
   ]
  },
  {
   "cell_type": "code",
   "execution_count": 101,
   "metadata": {},
   "outputs": [],
   "source": [
    "#matches_form_two"
   ]
  },
  {
   "cell_type": "code",
   "execution_count": 41,
   "metadata": {},
   "outputs": [],
   "source": [
    "# this throws an error!\n",
    "#box_office[(not matches_form_one) and (not matches_form_two)]"
   ]
  },
  {
   "cell_type": "code",
   "execution_count": 107,
   "metadata": {},
   "outputs": [],
   "source": [
    "# I keep getting pandas KeyError: -3904 message\n",
    "#box_office[~matches_form_one & ~matches_form_two]"
   ]
  },
  {
   "cell_type": "code",
   "execution_count": 103,
   "metadata": {},
   "outputs": [],
   "source": [
    "# adjust the forms\n",
    "form_one = r'\\$\\s*\\d+\\.?\\d*\\s*[mb]illi?on'\n",
    "form_two = r'\\$\\s*\\d{1,3}(?:[,\\.]\\d{3})+(?!\\s[mb]illion)'"
   ]
  },
  {
   "cell_type": "code",
   "execution_count": 104,
   "metadata": {},
   "outputs": [],
   "source": [
    "box_office = box_office.str.replace(r'\\$.*[-—–](?![a-z])', '$', regex=True)"
   ]
  },
  {
   "cell_type": "code",
   "execution_count": 105,
   "metadata": {},
   "outputs": [
    {
     "name": "stderr",
     "output_type": "stream",
     "text": [
      "/Users/mariacarter/opt/anaconda3/envs/PythonData/lib/python3.7/site-packages/pandas/core/strings.py:1952: UserWarning: This pattern has match groups. To actually get the groups, use str.extract.\n",
      "  return func(self, *args, **kwargs)\n"
     ]
    },
    {
     "data": {
      "text/plain": [
       "0       True\n",
       "1       True\n",
       "2       True\n",
       "3       True\n",
       "4       True\n",
       "        ... \n",
       "7070    True\n",
       "7071    True\n",
       "7072    True\n",
       "7073    True\n",
       "7074    True\n",
       "Name: Box office, Length: 5485, dtype: bool"
      ]
     },
     "execution_count": 105,
     "metadata": {},
     "output_type": "execute_result"
    }
   ],
   "source": [
    "box_office.str.contains(f'({form_one}|{form_two})')"
   ]
  },
  {
   "cell_type": "code",
   "execution_count": null,
   "metadata": {},
   "outputs": [],
   "source": []
  },
  {
   "cell_type": "code",
   "execution_count": null,
   "metadata": {},
   "outputs": [],
   "source": []
  }
 ],
 "metadata": {
  "kernelspec": {
   "display_name": "Python 3",
   "language": "python",
   "name": "python3"
  },
  "language_info": {
   "codemirror_mode": {
    "name": "ipython",
    "version": 3
   },
   "file_extension": ".py",
   "mimetype": "text/x-python",
   "name": "python",
   "nbconvert_exporter": "python",
   "pygments_lexer": "ipython3",
   "version": "3.7.6"
  }
 },
 "nbformat": 4,
 "nbformat_minor": 4
}
